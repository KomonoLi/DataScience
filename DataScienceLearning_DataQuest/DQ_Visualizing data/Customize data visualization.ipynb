{
 "cells": [
  {
   "cell_type": "code",
   "execution_count": 2,
   "metadata": {
    "collapsed": false
   },
   "outputs": [
    {
     "data": {
      "image/png": "[encoded data removed]",
      "text/plain": [
       "<matplotlib.figure.Figure at 0x10ad58940>"
      ]
     },
     "metadata": {},
     "output_type": "display_data"
    }
   ],
   "source": [
    "import matplotlib.pyplot as plt\n",
    "%matplotlib inline\n",
    "\n",
    "month_2013 = [1,2,3,4,5,6,7,8,9,10,11,12]\n",
    "temperature_2013 = [32,18,40,40,50,45,52,70,85,60,57,45]\n",
    "month_2014 = [1,2,3,4,5,6,7,8,9,10,11,12]\n",
    "temperature_2014 = [35,28,35,30,40,55,50,71,75,70,67,49]\n",
    "\n",
    "fig = plt.figure()\n",
    "ax1 = fig.add_subplot(1,2,1)\n",
    "ax2 = fig.add_subplot(1,2,2)\n",
    "\n",
    "ax1.set(xlim=[0,13], ylim=[10,110], title = '2013' )\n",
    "ax1.scatter(month_2013,temperature_2013,color = 'darkblue', marker = 'o')\n",
    "\n",
    "\n",
    "ax2.set(xlim=[0,13], ylim=[10,110], title = '2014' )\n",
    "ax2.scatter(month_2014,temperature_2014,color = 'darkgreen', marker = 'o')\n",
    "\n",
    "plt.show()\n"
   ]
  }
 ],
 "metadata": {
  "kernelspec": {
   "display_name": "Python 3",
   "language": "python",
   "name": "python3"
  },
  "language_info": {
   "codemirror_mode": {
    "name": "ipython",
    "version": 3
   },
   "file_extension": ".py",
   "mimetype": "text/x-python",
   "name": "python",
   "nbconvert_exporter": "python",
   "pygments_lexer": "ipython3",
   "version": "3.5.1"
  }
 },
 "nbformat": 4,
 "nbformat_minor": 0
}
