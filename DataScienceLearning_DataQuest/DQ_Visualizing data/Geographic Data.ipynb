{
 "cells": [
  {
   "cell_type": "code",
   "execution_count": null,
   "metadata": {
    "collapsed": true
   },
   "outputs": [],
   "source": [
    "import pandas as pd\n",
    "\n",
    "airlines = pd.read_csv('airlines.csv')\n",
    "airports = pd.read_csv('airports.csv')\n",
    "routes  = pd.read_csv('routes.csv')\n",
    "\n",
    "print(airports['latitude'].head(3))\n",
    "print(airports['longitude'].head(3))\n",
    "print (airports.head())\n",
    "\n",
    "\n",
    "import matplotlib.pyplot as plt\n",
    "from mpl_toolkits.basemap import Basemap\n",
    "%matplotlib inline\n",
    "\n",
    "m = Basemap(projection = 'merc', llcrnrlat = -80, urcrnrlat = 80, llcrnrlon = -180, urcrnrlon = 180)\n",
    "\n",
    "\n",
    "################\n",
    "m = Basemap(projection='merc', llcrnrlat=-80, urcrnrlat=80, llcrnrlon=-180, urcrnrlon=180)\n",
    "x, y = m(longitudes, latitudes)\n",
    "m.scatter(x,y,s=1)\n",
    "\n",
    "plt.show()\n",
    "\n",
    "#################\n",
    "fig = plt.figure(figsize=(15,20))\n",
    "ax = fig.add_subplot(1,1,1)\n",
    "ax.set_title('Scaled Up Earth With Coastlines')\n",
    "\n",
    "m = Basemap(projection = 'merc',llcrnrlat=-80, urcrnrlat=80, llcrnrlon=-180, urcrnrlon=180)\n",
    "longi = airports['longitude'].tolist()\n",
    "latit = airports['latitude'].tolist()\n",
    "x,y = m(longi,latit)\n",
    "m.scatter(x,y,s=2)\n",
    "m.drawcoastlines()\n",
    "plt.show()\n",
    "\n",
    "\n",
    "#################\n",
    "fig = plt.figure(figsize=(15,20))\n",
    "m = Basemap(projection='merc', llcrnrlat=-80, urcrnrlat=80, llcrnrlon=-180, urcrnrlon=180)\n",
    "m.drawcoastlines()\n",
    "\n",
    "def create_great_circles(df):\n",
    "    for index, row in df.iterrows():\n",
    "        start_lon = row['start_lon']\n",
    "        start_lat = row['start_lat']\n",
    "        end_lon = row['end_lon']\n",
    "        end_lat = row['end_lat']\n",
    "\n",
    "        if abs(end_lat - start_lat) < 180 and abs(end_lon - start_lon) < 180:\n",
    "            m.drawgreatcircle(start_lon, start_lat, end_lon, end_lat, linewidth=1)\n",
    "            \n",
    "dfw = geo_routes[geo_routes['source']=='DFW']\n",
    "\n",
    "create_great_circles(dfw)"
   ]
  }
 ],
 "metadata": {
  "kernelspec": {
   "display_name": "Python 2",
   "language": "python",
   "name": "python2"
  },
  "language_info": {
   "codemirror_mode": {
    "name": "ipython",
    "version": 2
   },
   "file_extension": ".py",
   "mimetype": "text/x-python",
   "name": "python",
   "nbconvert_exporter": "python",
   "pygments_lexer": "ipython2",
   "version": "2.7.10"
  }
 },
 "nbformat": 4,
 "nbformat_minor": 0
}
