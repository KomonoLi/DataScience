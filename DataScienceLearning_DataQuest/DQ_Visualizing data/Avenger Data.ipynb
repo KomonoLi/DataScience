{
 "cells": [
  {
   "cell_type": "code",
   "execution_count": null,
   "metadata": {
    "collapsed": true
   },
   "outputs": [],
   "source": [
    "import matplotlib.pyplot as plt\n",
    "%matplotlib inline\n",
    "true_avengers = pd.DataFrame()\n",
    "\n",
    "#select avengers introduced after 1960\n",
    "avengers['Year'].hist()\n",
    "true_avengers = avengers[avengers['Year'] > 1959]\n",
    "\n",
    "\n",
    "#count the number of death of each avengers and list them in a new column\n",
    "columns = ['Death1', 'Death2', 'Death3', 'Death4', 'Death5']\n",
    "true_avengers[columns]\n",
    "\n",
    "def count_death(row):\n",
    "    count = 0\n",
    "    for column in columns:\n",
    "        if row[column] == 'YES':\n",
    "            count += 1\n",
    "    return count\n",
    "true_avengers['Deaths'] = true_avengers.apply(count_death, axis = 1)\n",
    "\n",
    "\n",
    "#check the accuracy of year and years since joining\n",
    "joined_accuracy_count  = int()\n",
    "joined_accuracy_count = true_avengers[(true_avengers['Year'] + true_avengers['Years since joining']) == 2015].shape[0]\n",
    "\n",
    "\n"
   ]
  }
 ],
 "metadata": {
  "kernelspec": {
   "display_name": "Python 3",
   "language": "python",
   "name": "python3"
  },
  "language_info": {
   "codemirror_mode": {
    "name": "ipython",
    "version": 3
   },
   "file_extension": ".py",
   "mimetype": "text/x-python",
   "name": "python",
   "nbconvert_exporter": "python",
   "pygments_lexer": "ipython3",
   "version": "3.5.1"
  }
 },
 "nbformat": 4,
 "nbformat_minor": 0
}
