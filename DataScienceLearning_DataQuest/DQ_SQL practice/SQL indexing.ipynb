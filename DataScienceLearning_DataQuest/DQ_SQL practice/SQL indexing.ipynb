{
 "cells": [
  {
   "cell_type": "code",
   "execution_count": null,
   "metadata": {
    "collapsed": true
   },
   "outputs": [],
   "source": [
    "import sqlite3\n",
    "conn = sqlite3.connect(\"factbook.db\")\n",
    "query_plan_one = conn.execute('explain query plan select * from facts where population > 1000000 and population_growth < 0.05;').fetchall()\n",
    "print (query_plan_one)\n",
    "\n",
    "\n",
    "\n",
    "\n",
    "conn = sqlite3.connect(\"factbook.db\")\n",
    "query_plan_six = conn.execute(\"explain query plan select * from facts where population > 10000 ;\").fetchall()\n",
    "print(query_plan_six)\n",
    "conn.execute(\"create index if not exists pop_idx on facts(population)\")\n",
    "query_plan_seven = conn.execute(\"explain query plan select * from facts where population > 10000 ;\").fetchall()\n",
    "print(query_plan_seven)\n",
    "\n",
    "\n",
    "\n",
    "\n",
    "\n",
    "conn = sqlite3.connect(\"factbook.db\")\n",
    "conn.execute('create index if not exists pop_pop_growth_idx on facts(population,population_growth);')\n",
    "query_plan_three = conn.execute('explain query plan select * from facts where population > 1000000 and population_growth < 0.05;').fetchall()\n",
    "print (query_plan_three)\n",
    "\n",
    "\n",
    "\n",
    "\n",
    "\n",
    "conn = sqlite3.connect(\"factbook.db\")\n",
    "conn.execute(\"create index if not exists pop_pop_growth_idx on facts(population, population_growth);\")\n",
    "query_plan_four = conn.execute('explain query plan select population, population_growth from facts where population > 1000000 and population_growth < 0.05;').fetchall()\n",
    "print (query_plan_four)"
   ]
  }
 ],
 "metadata": {
  "kernelspec": {
   "display_name": "Python 3",
   "language": "python",
   "name": "python3"
  },
  "language_info": {
   "codemirror_mode": {
    "name": "ipython",
    "version": 3
   },
   "file_extension": ".py",
   "mimetype": "text/x-python",
   "name": "python",
   "nbconvert_exporter": "python",
   "pygments_lexer": "ipython3",
   "version": "3.5.1"
  }
 },
 "nbformat": 4,
 "nbformat_minor": 0
}
