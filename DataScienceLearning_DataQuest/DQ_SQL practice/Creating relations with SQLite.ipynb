{
 "cells": [
  {
   "cell_type": "code",
   "execution_count": null,
   "metadata": {
    "collapsed": true
   },
   "outputs": [],
   "source": [
    "import sqlite3\n",
    "conn = sqlite3.connect('nominations.db')\n",
    "schema = conn.execute('pragma table_info(nominations);').fetchall()\n",
    "first_ten = conn.execute('select * from nominations limit 10;').fetchall()\n",
    "\n",
    "\n",
    "\n",
    "\n",
    "create_ceremonies = 'create table ceremonies (id integer primary key,year integer, host text);'    \n",
    "conn.execute(create_ceremonies)\n",
    "years_hosts = [(2010, \"Steve Martin\"),\n",
    "               (2009, \"Hugh Jackman\"),\n",
    "               (2008, \"Jon Stewart\"),\n",
    "               (2007, \"Ellen DeGeneres\"),\n",
    "               (2006, \"Jon Stewart\"),\n",
    "               (2005, \"Chris Rock\"),\n",
    "               (2004, \"Billy Crystal\"),\n",
    "               (2003, \"Steve Martin\"),\n",
    "               (2002, \"Whoopi Goldberg\"),\n",
    "               (2001, \"Steve Martin\"),\n",
    "               (2000, \"Billy Crystal\"),\n",
    "            ]\n",
    "\n",
    "conn.executemany('insert into ceremonies (year, host) values (?,?)', years_hosts)\n",
    "#print(conn.execute(\"select * from ceremonies limit 10;\").fetchall())\n",
    "\n",
    "\n",
    "conn.execute('pragma foreign_keys = on;')\n",
    "\n",
    "\n"
   ]
  }
 ],
 "metadata": {
  "kernelspec": {
   "display_name": "Python 3",
   "language": "python",
   "name": "python3"
  },
  "language_info": {
   "codemirror_mode": {
    "name": "ipython",
    "version": 3
   },
   "file_extension": ".py",
   "mimetype": "text/x-python",
   "name": "python",
   "nbconvert_exporter": "python",
   "pygments_lexer": "ipython3",
   "version": "3.5.1"
  }
 },
 "nbformat": 4,
 "nbformat_minor": 0
}
