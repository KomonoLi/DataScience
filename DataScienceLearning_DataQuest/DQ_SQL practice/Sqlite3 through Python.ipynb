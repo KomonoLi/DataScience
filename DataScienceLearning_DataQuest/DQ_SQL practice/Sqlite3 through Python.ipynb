{
 "cells": [
  {
   "cell_type": "markdown",
   "metadata": {},
   "source": [
    "Connect to the database jobs2.db, which contains the same data as jobs.db.\n",
    "Write and execute a query that returns all of the major names (Major) in reverse alphabetical order (Z to A).\n",
    "Assign the full result set to reverse_alphabetical.\n",
    "Finally, close the connection to the database."
   ]
  },
  {
   "cell_type": "code",
   "execution_count": null,
   "metadata": {
    "collapsed": true
   },
   "outputs": [],
   "source": [
    "import sqlite3\n",
    "conn = sqlite3.connect('jobs2.db')\n",
    "query = 'select Major from recent_grads order by Major desc;'\n",
    "reverse_alphabetical = conn.execute(query).fetchall()\n",
    "conn.close()"
   ]
  },
  {
   "cell_type": "code",
   "execution_count": 1,
   "metadata": {
    "collapsed": false,
    "scrolled": false
   },
   "outputs": [
    {
     "ename": "SyntaxError",
     "evalue": "invalid syntax (<ipython-input-1-82bfa735fcd6>, line 1)",
     "output_type": "error",
     "traceback": [
      "\u001b[0;36m  File \u001b[0;32m\"<ipython-input-1-82bfa735fcd6>\"\u001b[0;36m, line \u001b[0;32m1\u001b[0m\n\u001b[0;31m    If you're in the same folder as factbook.db, and you type sqlite3 factbook.db on the command line, you'll open the Factbook database in the SQLite Command Shell. This enables you to manage the database and run SQL queries.\u001b[0m\n\u001b[0m         ^\u001b[0m\n\u001b[0;31mSyntaxError\u001b[0m\u001b[0;31m:\u001b[0m invalid syntax\n"
     ]
    }
   ],
   "source": [
    "\n",
    "\n",
    "If you're in the same folder as factbook.db, and you type sqlite3 factbook.db on the command line, \n",
    "you'll open the Factbook database in the SQLite Command Shell. This enables you to manage the database \n",
    "and run SQL queries.\n",
    "\n",
    "\n",
    "Instructions\n",
    "Use the SQLite Command Shell to explore factbook.db.\n",
    "\n",
    "Type .help into the shell to see a list of commands you can run in the shell.\n",
    "Type .tables to see a list of the tables in the database.\n",
    "If you type .header on, you'll see the column headers when you run queries.\n",
    "When you're done with the Command Shell, you can type .quit to quit. Don't do it just yet, \n",
    "though, because you'll be using it in the next step.\n",
    "\n",
    "\n",
    "Next Previous\n"
   ]
  },
  {
   "cell_type": "code",
   "execution_count": 3,
   "metadata": {
    "collapsed": false
   },
   "outputs": [
    {
     "data": {
      "text/plain": [
       "9"
      ]
     },
     "execution_count": 3,
     "metadata": {},
     "output_type": "execute_result"
    }
   ],
   "source": [
    "You can read the results of a SQL query into a Pandas Dataframe using the read_sql_query function, \n",
    "which is documented here. The read_sql_query function takes a SQL query string and a connection object,\n",
    "and returns a Dataframe containing all the rows and columns from the query.\n",
    "\n",
    "When Pandas reads in columns this way, it sets the type of the column to be the type of the column in the \n",
    "database. Some columns, like area_land, which had blank entries in the database, will have NaN values in a \n",
    "DataFrame, corresponding to \"Not a Number\". This is because Pandas can't have blanks in numeric columns, and \n",
    "uses NaN as a way to signify an invalid or missing value.\n",
    "\n",
    "See this Pandas documentation on how to work with missing data. The best way to deal with it for now is to \n",
    "just use the dropna method, with the axis=0 argument, which will drop any rows that have NaN values in them.\n",
    "\n",
    "\n",
    "Instructions\n",
    "Read the facts table into Pandas, and then compute the projected population for each country in 2050. Here\n",
    "are the rough steps:\n",
    "\n",
    "Create a script called growth.py.\n",
    "Read facts into a Pandas Dataframe using read_sql_query.\n",
    "Filter out any rows with invalid data, such as the area_land column being 0.\n",
    "Write a function that takes in the initial population and the growth rate of a country, and outputs the \n",
    "final population. The annual population growth (expressed as a percentage) for each country is in the \n",
    "population_growth column. The initial population is in the population column.\n",
    "The formula for compound annual population growth is N=N0e(rt)N=N0e(rt), where NN is \n",
    "the final population, N0N0 is the initial population, ee is a constant value you can \n",
    "access with math.e, rr is the rate of annual change, expressed as a decimal (so 1.5 percent should be .015),\n",
    "and tt is the number of years to calculate for. Assume that you'll be starting in January 2015, \n",
    "and you'll be ending in January 2050, or 35 years.\n",
    "Let's say you have a country with 5000 people, and a 4 percent annual growth rate. The formula \n",
    "would look like N=5000∗e(.04∗35)N=5000∗e(.04∗35).\n",
    "Use the apply method on Pandas Dataframes to compute the population in 2050 for each row in the data.\n",
    "Use the Dataframe sort method to sort on the 2050 population in descending order.\n",
    "Print the 10 countries that will have the highest projected populations in 2050."
   ]
  },
  {
   "cell_type": "code",
   "execution_count": null,
   "metadata": {
    "collapsed": true
   },
   "outputs": [],
   "source": [
    "import pandas as pd\n",
    "import query\n",
    "import math\n",
    "\n",
    "conn = query.conn\n",
    "q = 'select * from facts'\n",
    "\n",
    "df = pd.read_sql_query(q,conn)\n",
    "df = df.dropna(axis = 0)\n",
    "#print (df.info())\n",
    "\n",
    "def final_pop(row):\n",
    "    N = row['population']*math.e**(0.35*row['population_growth'])\n",
    "    return N\n",
    "    \n",
    "df['2050'] = df.apply(final_pop, axis = 1)\n",
    "df = df.sort(columns = '2050',ascending = False)\n",
    "\n",
    "print(df.head(10))\n",
    "\n",
    "\n",
    "\n",
    "\n",
    "'''\n",
    "You can compute totals of a column using the the SUM function in SQL queries. \n",
    "For example, you can select the total population with:\n",
    "\n",
    "SELECT SUM(population) from facts;\n",
    "You can also add a WHERE clause:\n",
    "\n",
    "SELECT SUM(population) from facts WHERE area_land != \"\";\n",
    "\n",
    "Instructions\n",
    "Use SQL and Python to compute the ratio of how much land area countries \n",
    "claim as their territory versus how much water area they claim. Here are the rough steps:\n",
    "\n",
    "Make a script called area.py.\n",
    "Query to get the total of the area_land column.\n",
    "Query to get the total of the area_water column`.\n",
    "Divide area_land by area_water, and print the result.\n",
    "\n",
    "Next Previous\n",
    "\n",
    "'''\n",
    "\n",
    "\n",
    "import sqlite3\n",
    "import pandas as pd\n",
    "\n",
    "conn = sqlite3.connect('factbook.db')\n",
    "query = 'select sum(area_land), sum(area_water) from facts'\n",
    "\n",
    "df = pd.read_sql_query(query, conn)\n",
    "df.columns = (['land','water'])\n",
    "df['ratio'] = df['land']/df['water']\n",
    "\n",
    "print(df.head())"
   ]
  }
 ],
 "metadata": {
  "kernelspec": {
   "display_name": "Python 3",
   "language": "python",
   "name": "python3"
  },
  "language_info": {
   "codemirror_mode": {
    "name": "ipython",
    "version": 3
   },
   "file_extension": ".py",
   "mimetype": "text/x-python",
   "name": "python",
   "nbconvert_exporter": "python",
   "pygments_lexer": "ipython3",
   "version": "3.5.1"
  }
 },
 "nbformat": 4,
 "nbformat_minor": 0
}
