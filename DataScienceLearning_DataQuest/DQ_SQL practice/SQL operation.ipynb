{
 "cells": [
  {
   "cell_type": "code",
   "execution_count": 2,
   "metadata": {
    "collapsed": false
   },
   "outputs": [
    {
     "ename": "SyntaxError",
     "evalue": "invalid syntax (<ipython-input-2-a1c756ffa707>, line 1)",
     "output_type": "error",
     "traceback": [
      "\u001b[0;36m  File \u001b[0;32m\"<ipython-input-2-a1c756ffa707>\"\u001b[0;36m, line \u001b[0;32m1\u001b[0m\n\u001b[0;31m    select Major, Major_category, Employed, Unemployment_rate\u001b[0m\n\u001b[0m               ^\u001b[0m\n\u001b[0;31mSyntaxError\u001b[0m\u001b[0;31m:\u001b[0m invalid syntax\n"
     ]
    }
   ],
   "source": [
    "select Major, Major_category, Employed, Unemployment_rate\n",
    "from recent_grads\n",
    "where (Major_category = 'Business' or Major_category = 'Arts' or Major_category= 'Health') \n",
    "and (Employed > 20000 or Unemployment_rate < 0.051);"
   ]
  },
  {
   "cell_type": "markdown",
   "metadata": {},
   "source": [
    "Write a query that orders the majors by Major in ascending order then by Median salary in descending order. We're interested in selecting only these columns in the following order:\n",
    "Major_category\n",
    "Median\n",
    "Major\n",
    "Limit the query to just the first 20 results."
   ]
  },
  {
   "cell_type": "code",
   "execution_count": null,
   "metadata": {
    "collapsed": true
   },
   "outputs": [],
   "source": [
    "select Major_category, Median, Major\n",
    "from recent_grads\n",
    "order by Major asc, Median desc\n",
    "limit 20;"
   ]
  },
  {
   "cell_type": "markdown",
   "metadata": {},
   "source": [
    "Return the first 20 non-engineering majors in reverse alphabetical order.\n",
    "We're only interested in the major names in the results."
   ]
  },
  {
   "cell_type": "code",
   "execution_count": null,
   "metadata": {
    "collapsed": true
   },
   "outputs": [],
   "source": [
    "select Major\n",
    "from recent_grads\n",
    "where Major_category != 'Engineering'\n",
    "order by Major desc\n",
    "limit 20;"
   ]
  },
  {
   "cell_type": "code",
   "execution_count": null,
   "metadata": {
    "collapsed": true
   },
   "outputs": [],
   "source": [
    "select Major_category, round(avg(College_jobs)/avg(Total), 3) as share_degree_jobs\n",
    "from recent_grads\n",
    "group by Major_category\n",
    "having share_degree_jobs < 0.3;"
   ]
  }
 ],
 "metadata": {
  "kernelspec": {
   "display_name": "Python 3",
   "language": "python",
   "name": "python3"
  },
  "language_info": {
   "codemirror_mode": {
    "name": "ipython",
    "version": 3
   },
   "file_extension": ".py",
   "mimetype": "text/x-python",
   "name": "python",
   "nbconvert_exporter": "python",
   "pygments_lexer": "ipython3",
   "version": "3.5.1"
  }
 },
 "nbformat": 4,
 "nbformat_minor": 0
}
