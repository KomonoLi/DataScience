{
 "cells": [
  {
   "cell_type": "code",
   "execution_count": null,
   "metadata": {
    "collapsed": true
   },
   "outputs": [],
   "source": [
    "import read\n",
    "from collections import Counter\n",
    "\n",
    "df = read.load_data()\n",
    "\n",
    "\n",
    "hl_list = df['headline'].dropna().tolist()\n",
    "hl_longstr = ' '.join(hl_list).lower()\n",
    "words = hl_longstr.split(' ')\n",
    "a = Counter(words).most_common(100)\n",
    "print (a)\n",
    "\n",
    "\n"
   ]
  }
 ],
 "metadata": {
  "kernelspec": {
   "display_name": "Python 3",
   "language": "python",
   "name": "python3"
  },
  "language_info": {
   "codemirror_mode": {
    "name": "ipython",
    "version": 3
   },
   "file_extension": ".py",
   "mimetype": "text/x-python",
   "name": "python",
   "nbconvert_exporter": "python",
   "pygments_lexer": "ipython3",
   "version": "3.5.1"
  }
 },
 "nbformat": 4,
 "nbformat_minor": 0
}
