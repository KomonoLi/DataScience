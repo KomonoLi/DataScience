{
 "cells": [
  {
   "cell_type": "code",
   "execution_count": null,
   "metadata": {
    "collapsed": true
   },
   "outputs": [],
   "source": [
    "import read\n",
    "import dateutil\n",
    "\n",
    "df = read.load_data()\n",
    "#print (df.info())\n",
    "df = df.dropna()\n",
    "#print (df.info())\n",
    "\n",
    "def parse(stp):\n",
    "    a = dateutil.parser.parse(stp)\n",
    "    return a.hour\n",
    "\n",
    "df['hours'] = df['submission_time'].apply(parse)\n",
    "hour = df['hours'].value_counts()\n",
    "\n",
    "print(hour)\n"
   ]
  }
 ],
 "metadata": {
  "kernelspec": {
   "display_name": "Python 3",
   "language": "python",
   "name": "python3"
  },
  "language_info": {
   "codemirror_mode": {
    "name": "ipython",
    "version": 3
   },
   "file_extension": ".py",
   "mimetype": "text/x-python",
   "name": "python",
   "nbconvert_exporter": "python",
   "pygments_lexer": "ipython3",
   "version": "3.5.1"
  }
 },
 "nbformat": 4,
 "nbformat_minor": 0
}
