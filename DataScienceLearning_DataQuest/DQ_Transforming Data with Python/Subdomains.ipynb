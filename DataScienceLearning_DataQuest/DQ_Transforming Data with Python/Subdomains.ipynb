{
 "cells": [
  {
   "cell_type": "code",
   "execution_count": null,
   "metadata": {
    "collapsed": true
   },
   "outputs": [],
   "source": [
    "import read\n",
    "from collections import Counter\n",
    "import re\n",
    "import pandas as pd\n",
    "\n",
    "df = read.load_data()\n",
    "domains = df['url'].dropna().value_counts()\n",
    "a = df['url'].dropna()\n",
    "print(type(a))\n",
    "\n",
    "def rm_subdomain(domain):\n",
    "    b = re.search('[^\\.]\\w*\\.com', str(domain))\n",
    "    if not b:\n",
    "        return domain\n",
    "    return b.group(0)\n",
    "    \n",
    "\n",
    "a = a.apply(rm_subdomain).value_counts()\n",
    "b = Counter(a).most_common(100)\n",
    "print (a)\n",
    "\n",
    "\n"
   ]
  }
 ],
 "metadata": {
  "kernelspec": {
   "display_name": "Python 3",
   "language": "python",
   "name": "python3"
  },
  "language_info": {
   "codemirror_mode": {
    "name": "ipython",
    "version": 3
   },
   "file_extension": ".py",
   "mimetype": "text/x-python",
   "name": "python",
   "nbconvert_exporter": "python",
   "pygments_lexer": "ipython3",
   "version": "3.5.1"
  }
 },
 "nbformat": 4,
 "nbformat_minor": 0
}
