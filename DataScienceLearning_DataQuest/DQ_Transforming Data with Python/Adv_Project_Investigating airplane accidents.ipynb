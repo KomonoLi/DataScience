{
 "cells": [
  {
   "cell_type": "code",
   "execution_count": 1,
   "metadata": {
    "collapsed": false
   },
   "outputs": [
    {
     "name": "stdout",
     "output_type": "stream",
     "text": [
      "['Event Id', 'Investigation Type', 'Accident Number', 'Event Date', 'Location', 'Country', 'Latitude', 'Longitude', 'Airport Code', 'Airport Name', 'Injury Severity', 'Aircraft Damage', 'Aircraft Category', 'Registration Number', 'Make', 'Model', 'Amateur Built', 'Number of Engines', 'Engine Type', 'FAR Description', 'Schedule', 'Purpose of Flight', 'Air Carrier', 'Total Fatal Injuries', 'Total Serious Injuries', 'Total Minor Injuries', 'Total Uninjured', 'Weather Condition', 'Broad Phase of Flight', 'Report Status', 'Publication Date', '\\n'] 32\n"
     ]
    }
   ],
   "source": [
    "with open('AviationData.txt') as f:\n",
    "    aviation_data = f.readlines()\n",
    "#print(aviation_data[1])\n",
    "\n",
    "'''\n",
    "aviation_list = []\n",
    "for item in aviation_data:\n",
    "    aviation_list.append(item.split('|'))\n",
    "#print (aviation_list[1])\n",
    "\n",
    "lax_code = []\n",
    "for item in aviation_list:\n",
    "    if ' LAX94LA336 ' == item[2]:\n",
    "        lax_code.append(item)\n",
    "        \n",
    "#print(lax_code)\n",
    "'''\n",
    "\n",
    "column_names = aviation_data[0].split(' | ')\n",
    "num = len(column_names)\n",
    "\n",
    "print(column_names,num)"
   ]
  },
  {
   "cell_type": "code",
   "execution_count": 4,
   "metadata": {
    "collapsed": false
   },
   "outputs": [
    {
     "name": "stdout",
     "output_type": "stream",
     "text": [
      "{'Total Fatal Injuries': '2', 'Broad Phase of Flight': 'TAKEOFF', 'Country': 'United States', 'Location': 'Santee, CA', 'Longitude': '-116.988611', 'Event Id': '20150903X33216', 'Number of Engines': '1', 'Accident Number': 'WPR15FA256', 'Registration Number': 'N8441B', 'Purpose of Flight': 'Instructional', 'Weather Condition': 'VMC', 'Event Date': '09/03/2015', 'Total Serious Injuries': '', 'Publication Date': '09/09/2015', 'Airport Code': 'SEE', 'Investigation Type': 'Accident', 'Airport Name': 'GILLESPIE FIELD', 'Report Status': 'Preliminary', 'Schedule': '', 'Air Carrier': '', 'Aircraft Damage': 'Substantial', 'Latitude': '32.829445', 'Make': 'PIPER', '\\n': '\\n', 'Amateur Built': 'No', 'Total Uninjured': '', 'Aircraft Category': 'Airplane', 'Injury Severity': 'Fatal(2)', 'Model': 'PA28', 'FAR Description': 'Part 91: General Aviation', 'Total Minor Injuries': '', 'Engine Type': 'Reciprocating'}\n"
     ]
    }
   ],
   "source": [
    "aviation_dict_list = []\n",
    "\n",
    "for item in aviation_data[1:]:\n",
    "    item_dict = {}\n",
    "    for i in range(num):\n",
    "        item_dict[column_names[i]] = item.split(' | ')[i]\n",
    " \n",
    "    aviation_dict_list.append(item_dict)\n",
    "\n",
    "print(aviation_dict_list[3])\n"
   ]
  },
  {
   "cell_type": "code",
   "execution_count": 16,
   "metadata": {
    "collapsed": false
   },
   "outputs": [
    {
     "name": "stdout",
     "output_type": "stream",
     "text": [
      "{' PA': 1703, ' GA': 1874, ' ON': 1, '': 15, ' CO': 2600, ' OR': 1662, ' NV': 1124, ' NYC': 1, ' TX': 5358, ' WA': 2516, ' VI': 15, ' ID': 1327, ' IA': 760, ' CT': 479, ' MT': 981, ' HONOL': 1, ' SD': 408, ' MP': 2, ' MI': 1914, ' LA': 1115, ' TN': 1026, ' San Juan Is.': 1, ' HI': 444, ' AS': 1, ' Oahu': 1, 'Kauai': 1, ' DC': 45, ' WY': 696, ' AL': 1081, ' KAUAI': 3, ' NY': 1842, ' Kauai': 2, 'MAUI': 2, ' NM': 1297, ' MA': 961, ' UT': 1250, 'OAHU': 1, ' NJ': 1143, ' VT': 225, ' DE': 103, ' Maui': 2, ' SC': 909, ' NC': 1535, ' UN': 6, ' FN': 6, ' OAHU': 4, ' ME': 500, ' IN': 1214, ' OK': 1158, ' AR': 1472, ' AO': 9, 'MOLOKAI': 1, \" MANU'A\": 1, ' WV': 385, ' MAUI': 4, ' CA': 8469, ' MN': 1363, ' VA': 1177, ' NE': 672, ' AZ': 2680, ' ND': 523, ' OH': 1686, ' NH': 352, ' MD': 769, 'C': 1, ' MO': 1475, ' FL': 5471, ' KY': 623, ' RI': 155, ' PO': 9, ' GM': 65, ' IL': 1925, ' MS': 799, ' GU': 15, 'SIDNEY': 1, ' WI': 1422, ' IS': 1, ' PR': 100, ' FT. MYER': 1, ' KS': 1033, ' AK': 5307}\n"
     ]
    }
   ],
   "source": [
    "states_info = {}\n",
    "\n",
    "for item in aviation_dict_list:\n",
    "    if len(item['Location'].split(','))>1 and item['Country'] == 'United States':\n",
    "        loc = item['Location'].split(',')[1]\n",
    "    \n",
    "    if loc in states_info:\n",
    "        states_info[loc] += 1\n",
    "    if loc not in states_info:\n",
    "        states_info[loc] = 1\n",
    "        \n",
    "print(states_info)\n"
   ]
  },
  {
   "cell_type": "code",
   "execution_count": 5,
   "metadata": {
    "collapsed": false
   },
   "outputs": [
    {
     "name": "stdout",
     "output_type": "stream",
     "text": [
      "LAX94LA336\n",
      "{'Total Fatal Injuries': '4', 'Broad Phase of Flight': 'UNKNOWN', 'Country': 'United States', 'Location': 'BRIDGEPORT, CA', 'Longitude': '', 'Event Id': '20001218X45447', 'Number of Engines': '1', 'Accident Number': 'LAX94LA336', 'Registration Number': 'N5069P', 'Purpose of Flight': 'Personal', 'Weather Condition': 'UNK', 'Event Date': '07/19/1962', 'Total Serious Injuries': '0', 'Publication Date': '09/19/1996', 'Airport Code': '', 'Investigation Type': 'Accident', 'Airport Name': '', 'Report Status': 'Probable Cause', 'Schedule': '', 'Air Carrier': '', 'Aircraft Damage': 'Destroyed', 'Latitude': '', 'Make': 'PIPER', '\\n': '\\n', 'Amateur Built': 'No', 'Total Uninjured': '0', 'Aircraft Category': '', 'Injury Severity': 'Fatal(4)', 'Model': 'PA24-180', 'FAR Description': '', 'Total Minor Injuries': '0', 'Engine Type': 'Reciprocating'}\n"
     ]
    }
   ],
   "source": [
    "lax_dict = {}\n",
    "\n",
    "for item in aviation_dict_list:\n",
    "    if item['Accident Number'] == 'LAX94LA336':\n",
    "        lax_dict = item\n",
    "        print(item['Accident Number'])\n",
    "    \n",
    "print(lax_dict)"
   ]
  },
  {
   "cell_type": "code",
   "execution_count": 6,
   "metadata": {
    "collapsed": false
   },
   "outputs": [
    {
     "data": {
      "text/plain": [
       "['asdf', 'adf']"
      ]
     },
     "execution_count": 6,
     "metadata": {},
     "output_type": "execute_result"
    }
   ],
   "source": [
    "a = 'asdf,adf'\n",
    "b= a.split(',')\n",
    "b\n"
   ]
  }
 ],
 "metadata": {
  "kernelspec": {
   "display_name": "Python 3",
   "language": "python",
   "name": "python3"
  },
  "language_info": {
   "codemirror_mode": {
    "name": "ipython",
    "version": 3
   },
   "file_extension": ".py",
   "mimetype": "text/x-python",
   "name": "python",
   "nbconvert_exporter": "python",
   "pygments_lexer": "ipython3",
   "version": "3.5.1"
  }
 },
 "nbformat": 4,
 "nbformat_minor": 0
}
