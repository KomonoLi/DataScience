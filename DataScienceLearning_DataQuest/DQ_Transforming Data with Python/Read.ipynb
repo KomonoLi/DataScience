{
 "cells": [
  {
   "cell_type": "code",
   "execution_count": null,
   "metadata": {
    "collapsed": true
   },
   "outputs": [],
   "source": [
    "import pandas as pd\n",
    "\n",
    "def load_data():\n",
    "        stories = pd.read_csv('hn_stories.csv')\n",
    "        stories.columns = ['submission_time', 'upvotes', 'url', 'headline']\n",
    "        return stories\n",
    "\n",
    "if __name__ == \"__main__\":\n",
    "        # This will call load_data if you run the script from the command line.\n",
    "    result = load_data()\n",
    "    #print (result.head())\n"
   ]
  }
 ],
 "metadata": {
  "kernelspec": {
   "display_name": "Python 3",
   "language": "python",
   "name": "python3"
  },
  "language_info": {
   "codemirror_mode": {
    "name": "ipython",
    "version": 3
   },
   "file_extension": ".py",
   "mimetype": "text/x-python",
   "name": "python",
   "nbconvert_exporter": "python",
   "pygments_lexer": "ipython3",
   "version": "3.5.1"
  }
 },
 "nbformat": 4,
 "nbformat_minor": 0
}
