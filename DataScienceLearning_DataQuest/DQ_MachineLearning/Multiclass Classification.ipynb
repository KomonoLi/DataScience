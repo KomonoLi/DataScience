{
 "cells": [
  {
   "cell_type": "code",
   "execution_count": null,
   "metadata": {
    "collapsed": true
   },
   "outputs": [],
   "source": [
    "import pandas as pd\n",
    "cars = pd.read_csv(\"auto.csv\")\n",
    "unique_regions = cars['origin'].unique() # series.unique()\n",
    "print(unique_regions)\n",
    "#check how many classifications are there\n",
    "\n",
    "\n",
    "\n",
    "\n",
    "dummy_cylinders = pd.get_dummies(cars[\"cylinders\"], prefix=\"cyl\") #pd.get_dummies(series)\n",
    "cars = pd.concat([cars, dummy_cylinders], axis=1)\n",
    "print(cars.head())\n",
    "\n",
    "dummy_years = pd.get_dummies(cars['year'], prefix = 'year')\n",
    "cars = pd.concat([cars,dummy_years], axis = 1)\n",
    "cars = cars.drop(['year','cylinders'], axis =1) #df.drop('column_name')\n",
    "print(cars.head())\n",
    "\n",
    "\n",
    "\n",
    "shuffled_rows = np.random.permutation(cars.index) #it returns a list of shuffled index such as [2,4,5,8...]\n",
    "shuffled_cars = cars.iloc[shuffled_rows] # iloc[] selects rows with the list of index, df.iloc[[2,4,5,8,...]]\n",
    "row = int(len(cars)*0.7)\n",
    "train = shuffled_cars.iloc[0:row]\n",
    "test = shuffled_cars.iloc[row:]\n",
    "\n",
    "\n",
    "\n",
    "\n",
    "from sklearn.linear_model import LogisticRegression\n",
    "\n",
    "unique_origins = cars[\"origin\"].unique() # it returns a list of random values\n",
    "unique_origins.sort() # list has this sort attribute to make sure \"unique_origins\" has the same ordering\n",
    "models = {}\n",
    "features = [c for c in cars.columns if c.startswith('cyl') or c.startswith('year')] #str has a startswith attribute\n",
    "\n",
    "for origin in unique_origins:\n",
    "    model = LogisticRegression()\n",
    "    y_train = train['origin'] == origin #the target column is set to be binary \n",
    "    x_train = train[features]\n",
    "    model.fit(x_train,y_train)\n",
    "    models[origin] = model #save each model instance into the list\n",
    "    \n",
    "\n",
    "    \n",
    "    \n",
    "testing_probs = pd.DataFrame(columns=unique_origins) #initialize a DF\n",
    "\n",
    "for origin in unique_origins:\n",
    "    testing_probs[origin] = models[origin].predict_proba(test[features])[:,1]\n",
    "print(testing_probs.head())\n",
    "# .predict_proba: The returned estimates for all classes are ordered by the label of classes.\n",
    "# since the model fit on a binary target column, predict_proba returns a array, each value is a list of two \n",
    "# probabilities, [[0.3, 0.7], [0.4,0.6], [0.2,0.8]....]. ndarray operates like a DG, so the second column \n",
    "# is the probability of being predicted as 1 or True. \n",
    "\n",
    "\n",
    "\n",
    "predicted_origins = testing_probs.idxmax(axis =1) # .idxmax is a df method that returns the index of the max value per\n",
    "# column or row. See the next window for details\n",
    "print(predicted_origins)"
   ]
  },
  {
   "cell_type": "markdown",
   "metadata": {},
   "source": [
    "In a multiclass classification problem, one should first:\n",
    "1. take a look at the data\n",
    "2. remove rows with NA value\n",
    "3. remove rows with values that don't make sense\n",
    "4. get dummy variables for multi-value "
   ]
  },
  {
   "cell_type": "code",
   "execution_count": 14,
   "metadata": {
    "collapsed": false
   },
   "outputs": [
    {
     "name": "stdout",
     "output_type": "stream",
     "text": [
      "   0  1  2\n",
      "a  1  2  3\n",
      "b  4  7  6\n",
      "c  7  8  1\n"
     ]
    },
    {
     "data": {
      "text/plain": [
       "0    c\n",
       "1    c\n",
       "2    b\n",
       "dtype: object"
      ]
     },
     "execution_count": 14,
     "metadata": {},
     "output_type": "execute_result"
    }
   ],
   "source": [
    "import pandas as pd\n",
    "a = pd.DataFrame([[1,2,3],[4,7,6],[7,8,1]],['a', 'b','c'])\n",
    "print(a)\n",
    "a.idxmax(axis =0)\n"
   ]
  }
 ],
 "metadata": {
  "kernelspec": {
   "display_name": "Python 3",
   "language": "python",
   "name": "python3"
  },
  "language_info": {
   "codemirror_mode": {
    "name": "ipython",
    "version": 3
   },
   "file_extension": ".py",
   "mimetype": "text/x-python",
   "name": "python",
   "nbconvert_exporter": "python",
   "pygments_lexer": "ipython3",
   "version": "3.5.1"
  }
 },
 "nbformat": 4,
 "nbformat_minor": 0
}
