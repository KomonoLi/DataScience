{
 "cells": [
  {
   "cell_type": "code",
   "execution_count": null,
   "metadata": {
    "collapsed": true
   },
   "outputs": [],
   "source": [
    "# For a new dataframe, df\n",
    "\n",
    "df.count() # check the number of values in each column\n",
    "df.size # check the size of df - product of rows and columns\n",
    "(1- df.count().sum()/df.size) # the percentage of missing value in df"
   ]
  },
  {
   "cell_type": "code",
   "execution_count": null,
   "metadata": {
    "collapsed": true
   },
   "outputs": [],
   "source": []
  },
  {
   "cell_type": "code",
   "execution_count": null,
   "metadata": {
    "collapsed": true
   },
   "outputs": [],
   "source": []
  },
  {
   "cell_type": "code",
   "execution_count": null,
   "metadata": {
    "collapsed": true
   },
   "outputs": [],
   "source": []
  },
  {
   "cell_type": "code",
   "execution_count": null,
   "metadata": {
    "collapsed": true
   },
   "outputs": [],
   "source": []
  },
  {
   "cell_type": "markdown",
   "metadata": {},
   "source": [
    "# Value count, distribution, hue, pairplots"
   ]
  },
  {
   "cell_type": "code",
   "execution_count": null,
   "metadata": {
    "collapsed": true
   },
   "outputs": [],
   "source": [
    "#################################\n",
    "#######      Count    ###########\n",
    "#################################\n",
    "# To check the value counts for each category in a dataframe column\n",
    "df['column'].value_counts()\n",
    "df['cnt'] = 1 \n",
    "df.groupby(['column1','column2']).count().reset_index()\n",
    "\n",
    "# use groupby() and agg()\n",
    "'Documentation:'\n",
    "    refer to link: http://pandas.pydata.org/pandas-docs/stable/groupby.html\n",
    "'Example:'\n",
    "    refer to file: KG_SantandarProductRec.Data_Cleaning_and_Visualization.Massage_data_with_Groupby\n",
    "\n",
    "\n",
    "#################################\n",
    "#######    Visualize  ###########\n",
    "#################################\n",
    "# To visualize the above operation\n",
    "sns.set(font_scale=1)\n",
    "\n",
    "plt.figure(figsize=(20,10)) \n",
    "sns.countplot(df.column, palette='Set3')\n",
    "sns.countplot(data = df, x='column1', hue='column2')\n",
    "\n",
    "plt.figure(figsize=(10,30)) \n",
    "sns.barplot(data = df, y='column1',x='column2' ,hue='column3',orient='h')\n",
    "\n",
    "\n",
    "# Single/multiple variable distribution, hist, pair plot\n",
    "http://seaborn.pydata.org/tutorial/distributions.html"
   ]
  },
  {
   "cell_type": "markdown",
   "metadata": {},
   "source": [
    "Some great scripts for visualization:\n",
    "* https://www.kaggle.com/lebedevbogdan/d/uciml/iris/python-data-visualizations-23dd2fa4"
   ]
  },
  {
   "cell_type": "markdown",
   "metadata": {},
   "source": [
    "# Groupby "
   ]
  },
  {
   "cell_type": "code",
   "execution_count": null,
   "metadata": {
    "collapsed": false
   },
   "outputs": [],
   "source": [
    "# apply some function to grouped columns (selected by columns grouped by 'id') via transform.\n",
    "# the function is apply to each column \n",
    "df.loc[:,columns] = df.loc[:,columns+'id'].groupby('id').transform(function)"
   ]
  },
  {
   "cell_type": "code",
   "execution_count": 3,
   "metadata": {
    "collapsed": false
   },
   "outputs": [
    {
     "name": "stdout",
     "output_type": "stream",
     "text": [
      "   A  B  C\n",
      "0  a  1  2\n",
      "1  b  3  4\n",
      "2  c  5  6\n"
     ]
    },
    {
     "data": {
      "text/html": [
       "<div>\n",
       "<table border=\"1\" class=\"dataframe\">\n",
       "  <thead>\n",
       "    <tr style=\"text-align: right;\">\n",
       "      <th></th>\n",
       "      <th>A</th>\n",
       "      <th>variable</th>\n",
       "      <th>value</th>\n",
       "    </tr>\n",
       "  </thead>\n",
       "  <tbody>\n",
       "    <tr>\n",
       "      <th>0</th>\n",
       "      <td>a</td>\n",
       "      <td>B</td>\n",
       "      <td>1</td>\n",
       "    </tr>\n",
       "    <tr>\n",
       "      <th>1</th>\n",
       "      <td>b</td>\n",
       "      <td>B</td>\n",
       "      <td>3</td>\n",
       "    </tr>\n",
       "    <tr>\n",
       "      <th>2</th>\n",
       "      <td>c</td>\n",
       "      <td>B</td>\n",
       "      <td>5</td>\n",
       "    </tr>\n",
       "    <tr>\n",
       "      <th>3</th>\n",
       "      <td>a</td>\n",
       "      <td>C</td>\n",
       "      <td>2</td>\n",
       "    </tr>\n",
       "    <tr>\n",
       "      <th>4</th>\n",
       "      <td>b</td>\n",
       "      <td>C</td>\n",
       "      <td>4</td>\n",
       "    </tr>\n",
       "    <tr>\n",
       "      <th>5</th>\n",
       "      <td>c</td>\n",
       "      <td>C</td>\n",
       "      <td>6</td>\n",
       "    </tr>\n",
       "  </tbody>\n",
       "</table>\n",
       "</div>"
      ],
      "text/plain": [
       "   A variable  value\n",
       "0  a        B      1\n",
       "1  b        B      3\n",
       "2  c        B      5\n",
       "3  a        C      2\n",
       "4  b        C      4\n",
       "5  c        C      6"
      ]
     },
     "execution_count": 3,
     "metadata": {},
     "output_type": "execute_result"
    }
   ],
   "source": [
    "# Melt\n",
    "# This function is useful to massage a DataFrame into a format where one or more columns \n",
    "# are identifier variables (id_vars), while all other columns, considered measured variables (value_vars), \n",
    "# are “unpivoted” to the row axis, leaving just two non-identifier columns, ‘variable’ and ‘value’.\n",
    "\n",
    "import pandas as pd\n",
    "df = pd.DataFrame({'A': {0: 'a', 1: 'b', 2: 'c'},\n",
    "                   'B': {0: 1, 1: 3, 2: 5},\n",
    "                   'C': {0: 2, 1: 4, 2: 6}})\n",
    "print(df)\n",
    "pd.melt(df, id_vars=['A'], value_vars=['B', 'C'])"
   ]
  },
  {
   "cell_type": "code",
   "execution_count": null,
   "metadata": {
    "collapsed": false
   },
   "outputs": [],
   "source": []
  }
 ],
 "metadata": {
  "kernelspec": {
   "display_name": "Python 3",
   "language": "python",
   "name": "python3"
  },
  "language_info": {
   "codemirror_mode": {
    "name": "ipython",
    "version": 3
   },
   "file_extension": ".py",
   "mimetype": "text/x-python",
   "name": "python",
   "nbconvert_exporter": "python",
   "pygments_lexer": "ipython3",
   "version": "3.5.1"
  }
 },
 "nbformat": 4,
 "nbformat_minor": 0
}
